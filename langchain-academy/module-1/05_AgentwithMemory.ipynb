{
 "cells": [
  {
   "cell_type": "code",
   "execution_count": 1,
   "id": "bcdd3bdb-88b7-4572-bc30-224643966af6",
   "metadata": {},
   "outputs": [
    {
     "name": "stdout",
     "output_type": "stream",
     "text": [
      "\n",
      "\u001b[1m[\u001b[0m\u001b[34;49mnotice\u001b[0m\u001b[1;39;49m]\u001b[0m\u001b[39;49m A new release of pip is available: \u001b[0m\u001b[31;49m24.3.1\u001b[0m\u001b[39;49m -> \u001b[0m\u001b[32;49m25.0\u001b[0m\n",
      "\u001b[1m[\u001b[0m\u001b[34;49mnotice\u001b[0m\u001b[1;39;49m]\u001b[0m\u001b[39;49m To update, run: \u001b[0m\u001b[32;49mpip install --upgrade pip\u001b[0m\n",
      "Note: you may need to restart the kernel to use updated packages.\n",
      "\n",
      "\u001b[1m[\u001b[0m\u001b[34;49mnotice\u001b[0m\u001b[1;39;49m]\u001b[0m\u001b[39;49m A new release of pip is available: \u001b[0m\u001b[31;49m24.3.1\u001b[0m\u001b[39;49m -> \u001b[0m\u001b[32;49m25.0\u001b[0m\n",
      "\u001b[1m[\u001b[0m\u001b[34;49mnotice\u001b[0m\u001b[1;39;49m]\u001b[0m\u001b[39;49m To update, run: \u001b[0m\u001b[32;49mpip install --upgrade pip\u001b[0m\n",
      "Note: you may need to restart the kernel to use updated packages.\n",
      "Requirement already satisfied: python-dotenv in /Users/sai/go/src/github.com/saiSunkari19/python/langchain-academy/venv/lib/python3.13/site-packages (1.0.1)\n",
      "\n",
      "\u001b[1m[\u001b[0m\u001b[34;49mnotice\u001b[0m\u001b[1;39;49m]\u001b[0m\u001b[39;49m A new release of pip is available: \u001b[0m\u001b[31;49m24.3.1\u001b[0m\u001b[39;49m -> \u001b[0m\u001b[32;49m25.0\u001b[0m\n",
      "\u001b[1m[\u001b[0m\u001b[34;49mnotice\u001b[0m\u001b[1;39;49m]\u001b[0m\u001b[39;49m To update, run: \u001b[0m\u001b[32;49mpip install --upgrade pip\u001b[0m\n"
     ]
    }
   ],
   "source": [
    "# Install the project dependencies \n",
    "%pip install --quiet -U langchain_openai langchain_core langgraph\n",
    "%pip install -qU langchain-deepseek-official\n",
    "!pip install python-dotenv"
   ]
  },
  {
   "cell_type": "code",
   "execution_count": 2,
   "id": "07fa04aa-a170-43e3-b206-0706743294fe",
   "metadata": {},
   "outputs": [],
   "source": [
    "# Set up Env\n",
    "\n",
    "import os, getpass \n",
    "from dotenv import load_dotenv\n",
    "load_dotenv()\n",
    "\n",
    "\n",
    "def _set_env(var:str) :\n",
    "    if not os.environ.get(var):\n",
    "        os.environ[var] = getpass.getpass(f\"{var}\")\n",
    "_set_env(\"OPENAI_API_KEY\")"
   ]
  },
  {
   "cell_type": "code",
   "execution_count": 4,
   "id": "f154b619-2b23-4fd7-ae2f-7b4dbf9d72d7",
   "metadata": {},
   "outputs": [],
   "source": [
    "_set_env(\"LANGSMITH_API_KEY\")\n",
    "os.environ[\"LANGCHAIN_TRACING_V2\"] = \"true\"\n",
    "os.environ[\"LANGCHAIN_PROJECT\"] = \"pr-weary-bull-48\""
   ]
  },
  {
   "cell_type": "code",
   "execution_count": 8,
   "id": "08f71b81-b063-434d-b0ed-23472213373a",
   "metadata": {},
   "outputs": [],
   "source": [
    "from langchain_openai import ChatOpenAI \n",
    "\n",
    "\n",
    "def multiply(a:int, b:int) -> int :\n",
    "    \"\"\"Multiply a and b \n",
    "    Args:\n",
    "        a: first int\n",
    "        b: second int\n",
    "    \"\"\"\n",
    "    return a * b \n",
    "\n",
    "def sub (a:int, b:int) -> int:\n",
    "    \"\"\" Substraction a and b \n",
    "    Args:\n",
    "        a: first int \n",
    "        b: second int \n",
    "    \"\"\"\n",
    "    return a - b \n",
    "\n",
    "tools = [sub, multiply]\n",
    "\n",
    "llm = ChatOpenAI(model=\"gpt-4o-mini\")\n",
    "llm_with_tools = llm.bind_tools(tools)\n",
    "    "
   ]
  },
  {
   "cell_type": "code",
   "execution_count": 10,
   "id": "be42f701-4db6-4cb5-9399-c46fe1a95b02",
   "metadata": {},
   "outputs": [],
   "source": [
    "from langgraph.graph import MessagesState\n",
    "from langchain_core.messages import AIMessage, HumanMessage, SystemMessage\n",
    "\n",
    "sys_msg = SystemMessage(content=\"You are a helpful assistant tasked with performing arithmetic on a set of inputs.\")\n",
    "\n",
    "\n",
    "def assistant(state:MessagesState) :\n",
    "    return {\"messages\": [llm_with_tools.invoke([sys_msg]+ state[\"messages\"])]}\n"
   ]
  },
  {
   "cell_type": "code",
   "execution_count": 18,
   "id": "33e4cfba-b607-4315-af75-f0ccdeb7d6da",
   "metadata": {},
   "outputs": [
    {
     "data": {
      "text/plain": [
       "<langgraph.graph.state.StateGraph at 0x108755f90>"
      ]
     },
     "execution_count": 18,
     "metadata": {},
     "output_type": "execute_result"
    }
   ],
   "source": [
    "\n",
    "from langgraph.graph import START, StateGraph \n",
    "from langgraph.prebuilt import tools_condition, ToolNode \n",
    "from IPython.display import Image, display\n",
    "\n",
    "\n",
    "builder = StateGraph(MessagesState)\n",
    "builder.add_node(\"assistant\", assistant )\n",
    "builder.add_node(\"tools\", ToolNode(tools))\n",
    "\n",
    "\n",
    "builder.add_edge(START, \"assistant\")\n",
    "builder.add_conditional_edges(\n",
    "    \"assistant\",\n",
    "    tools_condition\n",
    ")\n",
    "\n",
    "builder.add_edge(\"tools\", \"assistant\")\n",
    "# react_graph = builder.compile()\n"
   ]
  },
  {
   "cell_type": "markdown",
   "id": "c30c15af-27a1-4457-9f44-b3ab2b60bb01",
   "metadata": {},
   "source": [
    "# Memeory adding into it "
   ]
  },
  {
   "cell_type": "code",
   "execution_count": 19,
   "id": "29b57d08-0c80-4eac-aec5-42e557aafe8f",
   "metadata": {},
   "outputs": [],
   "source": [
    "from langgraph.checkpoint.memory import MemorySaver\n",
    "memory = MemorySaver()\n",
    "react_graph_memory = builder.compile(checkpointer=memory)"
   ]
  },
  {
   "cell_type": "code",
   "execution_count": 25,
   "id": "89298d30-446e-4419-812a-d34b88763db5",
   "metadata": {},
   "outputs": [
    {
     "name": "stdout",
     "output_type": "stream",
     "text": [
      "================================\u001b[1m Human Message \u001b[0m=================================\n",
      "\n",
      "multiple 3 and 4\n",
      "==================================\u001b[1m Ai Message \u001b[0m==================================\n",
      "Tool Calls:\n",
      "  multiply (call_kbdQlUfFZ3gUlAnEnWRFGCd8)\n",
      " Call ID: call_kbdQlUfFZ3gUlAnEnWRFGCd8\n",
      "  Args:\n",
      "    a: 3\n",
      "    b: 4\n",
      "=================================\u001b[1m Tool Message \u001b[0m=================================\n",
      "Name: multiply\n",
      "\n",
      "12\n",
      "==================================\u001b[1m Ai Message \u001b[0m==================================\n",
      "\n",
      "The product of 3 and 4 is 12.\n"
     ]
    }
   ],
   "source": [
    "config = {\"configurable\":{\"thread_id\": \"1\"}}\n",
    "\n",
    "msgs = [HumanMessage(content=\"multiple 3 and 4\")]\n",
    "msgs = react_graph_memory.invoke({\"messages\": msgs}, config)\n",
    "for m in msgs[\"messages\"]:\n",
    "    m.pretty_print()"
   ]
  },
  {
   "cell_type": "code",
   "execution_count": 26,
   "id": "dad7102b-906d-469b-b02a-7e3dc5d0ddc5",
   "metadata": {},
   "outputs": [
    {
     "name": "stdout",
     "output_type": "stream",
     "text": [
      "================================\u001b[1m Human Message \u001b[0m=================================\n",
      "\n",
      "multiple 3 and 4\n",
      "==================================\u001b[1m Ai Message \u001b[0m==================================\n",
      "Tool Calls:\n",
      "  multiply (call_kbdQlUfFZ3gUlAnEnWRFGCd8)\n",
      " Call ID: call_kbdQlUfFZ3gUlAnEnWRFGCd8\n",
      "  Args:\n",
      "    a: 3\n",
      "    b: 4\n",
      "=================================\u001b[1m Tool Message \u001b[0m=================================\n",
      "Name: multiply\n",
      "\n",
      "12\n",
      "==================================\u001b[1m Ai Message \u001b[0m==================================\n",
      "\n",
      "The product of 3 and 4 is 12.\n",
      "================================\u001b[1m Human Message \u001b[0m=================================\n",
      "\n",
      "substract that with 4\n",
      "==================================\u001b[1m Ai Message \u001b[0m==================================\n",
      "Tool Calls:\n",
      "  sub (call_oueSGSS5LvSqd6onn3qX1Jij)\n",
      " Call ID: call_oueSGSS5LvSqd6onn3qX1Jij\n",
      "  Args:\n",
      "    a: 12\n",
      "    b: 4\n",
      "=================================\u001b[1m Tool Message \u001b[0m=================================\n",
      "Name: sub\n",
      "\n",
      "8\n",
      "==================================\u001b[1m Ai Message \u001b[0m==================================\n",
      "\n",
      "Subtracting 4 from 12 gives you 8.\n"
     ]
    }
   ],
   "source": [
    "msgs = HumanMessage(content=\"substract that with 4\")\n",
    "\n",
    "msgs = react_graph_memory.invoke({\"messages\": msgs}, config)\n",
    "for m in msgs[\"messages\"]:\n",
    "    m.pretty_print()\n"
   ]
  },
  {
   "cell_type": "code",
   "execution_count": 16,
   "id": "a7557c65-a022-416c-82f4-6cc75feb088c",
   "metadata": {},
   "outputs": [],
   "source": []
  }
 ],
 "metadata": {
  "kernelspec": {
   "display_name": "Python 3 (ipykernel)",
   "language": "python",
   "name": "python3"
  },
  "language_info": {
   "codemirror_mode": {
    "name": "ipython",
    "version": 3
   },
   "file_extension": ".py",
   "mimetype": "text/x-python",
   "name": "python",
   "nbconvert_exporter": "python",
   "pygments_lexer": "ipython3",
   "version": "3.13.1"
  }
 },
 "nbformat": 4,
 "nbformat_minor": 5
}
