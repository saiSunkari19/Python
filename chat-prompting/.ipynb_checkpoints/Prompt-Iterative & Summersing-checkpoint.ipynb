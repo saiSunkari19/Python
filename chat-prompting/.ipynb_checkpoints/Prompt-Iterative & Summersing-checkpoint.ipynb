{
 "cells": [
  {
   "cell_type": "code",
   "execution_count": 27,
   "id": "babf02a8-0d8d-4920-b29a-c5e677ca76fb",
   "metadata": {},
   "outputs": [],
   "source": [
    "import openai\n",
    "openai.api_key = \"\""
   ]
  },
  {
   "cell_type": "code",
   "execution_count": 28,
   "id": "ea1f7bc4-08bc-418d-88cd-0482b2039e3e",
   "metadata": {},
   "outputs": [],
   "source": [
    "def get_completion(prompt, model=\"gpt-3.5-turbo\"):\n",
    "    messages = [{\"role\": \"user\", \"content\":prompt}]\n",
    "    response = openai.ChatCompletion.create(\n",
    "        model = model,\n",
    "        messages = messages,\n",
    "        temperature = 0  # Degree of random ness model output\n",
    "    )\n",
    "    return response.choices[0].message[\"content\"] "
   ]
  },
  {
   "cell_type": "code",
   "execution_count": 29,
   "id": "994d63b4-bed6-4955-a831-0c82433d587f",
   "metadata": {},
   "outputs": [
    {
     "name": "stdout",
     "output_type": "stream",
     "text": [
      "Generate a portrait image of Mahatma Gandhi with highly detailed features, showcasing him with a surprising six-pack physique.\n"
     ]
    }
   ],
   "source": [
    "text =\"\"\"\n",
    "Mahatma Gandhi with six packs \n",
    "\"\"\"\n",
    "\n",
    "\n",
    "prompt=f\"\"\"\n",
    "Generate a prompt to use in Text-to-Image for the given text delimited by <> \n",
    "\n",
    "Potrait image with highly detailed\n",
    "\n",
    "Text: <{text}>\n",
    "\"\"\"\n",
    "\n",
    "response = get_completion(prompt)\n",
    "print(response)"
   ]
  },
  {
   "cell_type": "code",
   "execution_count": 30,
   "id": "85b18d77-a9b8-4670-ad17-4f9e4a8bd30d",
   "metadata": {},
   "outputs": [
    {
     "name": "stdout",
     "output_type": "stream",
     "text": [
      "Create a highly detailed portrait image of Mahatma Gandhi with six-pack abs, showcasing his iconic physique. Ensure the image is a full image, capturing his entire body and highlighting his well-defined abdominal muscles.\n"
     ]
    }
   ],
   "source": [
    "text =\"\"\"\n",
    "Mahatma Gandhi with six packs \n",
    "\"\"\"\n",
    "\n",
    "\n",
    "prompt=f\"\"\"\n",
    "Generate a prompt to use in Text-to-Image for the given text delimited by <> \n",
    "With the followint properties:\n",
    "- Potrait image with highly detailed\n",
    "- Highlighted six-pack abs\n",
    "- With Full image\n",
    "\n",
    "\n",
    "Text: <{text}>\n",
    "\"\"\"\n",
    "\n",
    "response = get_completion(prompt)\n",
    "print(response)"
   ]
  },
  {
   "cell_type": "code",
   "execution_count": 31,
   "id": "745027d1-b2de-4848-8dd5-66cc1b1e1ee7",
   "metadata": {},
   "outputs": [
    {
     "name": "stdout",
     "output_type": "stream",
     "text": [
      "Create a highly detailed full body image of Mahatma Gandhi, showcasing his iconic six-pack abs. Dress him in a white T-shirt and cargo pants, with his body painted in cargo paint.\n"
     ]
    }
   ],
   "source": [
    "text =\"\"\"\n",
    "Mahatma Gandhi with six packs \n",
    "\"\"\"\n",
    "\n",
    "\n",
    "prompt=f\"\"\"\n",
    "Generate a prompt to use in Text-to-Image for the given text delimited by <> \n",
    "With the followint properties:\n",
    "- Highly detailed full body\n",
    "- Highlighted six-pack abs\n",
    "- With Cargo paint and white T-shirt\n",
    "\n",
    "\n",
    "Text: <{text}>\n",
    "\"\"\"\n",
    "\n",
    "response = get_completion(prompt)\n",
    "print(response)"
   ]
  },
  {
   "cell_type": "code",
   "execution_count": 32,
   "id": "829d9f2b-9fe1-40a2-85bf-b55d2a572064",
   "metadata": {},
   "outputs": [
    {
     "name": "stdout",
     "output_type": "stream",
     "text": [
      "Create an image of Mahatma Gandhi showcasing his extraordinary qualities: his highlighted six-pack abs, his dedication to training kids in Karate, all while enjoying his favorite music through AirPods.\n"
     ]
    }
   ],
   "source": [
    "text =\"\"\"\n",
    "Mahatma Gandhi contains\n",
    "- Highlighted six-pack abs\n",
    "- Traning kids in Karate\n",
    "- while listening music through AirPods\n",
    "\"\"\"\n",
    "\n",
    "\n",
    "prompt=f\"\"\"\n",
    "Generate a prompt to use in Text-to-Image for the given text delimited by <> \n",
    "Text: <{text}>\n",
    "\"\"\"\n",
    "\n",
    "response = get_completion(prompt)\n",
    "print(response)"
   ]
  },
  {
   "cell_type": "code",
   "execution_count": null,
   "id": "6dda7262-b184-45cc-9477-512f23ababa4",
   "metadata": {},
   "outputs": [],
   "source": []
  },
  {
   "cell_type": "markdown",
   "id": "f4908850-9344-456b-8dfc-155f422e9471",
   "metadata": {},
   "source": [
    " # Summerising\n"
   ]
  },
  {
   "cell_type": "code",
   "execution_count": 20,
   "id": "00fe93f2-285c-4fd8-b46c-57931f85aa76",
   "metadata": {},
   "outputs": [
    {
     "name": "stdout",
     "output_type": "stream",
     "text": [
      "\"Enchanting moonlit forest with glowing fireflies.\"\n"
     ]
    }
   ],
   "source": [
    "\n",
    "text=f\"\"\"\n",
    "Generate Random prompt for Text-to-Image model with highly detailed\n",
    "\"\"\"\n",
    "\n",
    "prompt=f\"\"\"\n",
    "You are an Artist\n",
    "Give me the prompt that can generate stunning images using Text-to-image model \\\n",
    "With following conditions \n",
    "- Each prompt is unique\n",
    "- Limit of words are 20\n",
    "\"\"\"\n",
    "\n",
    "\n",
    "response = get_completion(prompt)\n",
    "print(response)"
   ]
  },
  {
   "cell_type": "code",
   "execution_count": 21,
   "id": "3f0d4c48-c0f4-42df-b22b-67bff3874421",
   "metadata": {},
   "outputs": [
    {
     "name": "stdout",
     "output_type": "stream",
     "text": [
      "\"Describe a time when you faced a difficult challenge and how you overcame it.\"\n"
     ]
    }
   ],
   "source": [
    "\n",
    "text=f\"\"\"\n",
    "Generate Random prompt for Text-to-Image model with highly detailed\n",
    "\"\"\"\n",
    "\n",
    "prompt=f\"\"\"\n",
    "Give me a sentence that I can use for prompt \n",
    "\"\"\"\n",
    "\n",
    "\n",
    "response = get_completion(prompt)\n",
    "print(response)"
   ]
  },
  {
   "cell_type": "markdown",
   "id": "628f425c-739f-435f-868b-ca935029a892",
   "metadata": {},
   "source": [
    "### Tags"
   ]
  },
  {
   "cell_type": "code",
   "execution_count": 26,
   "id": "dea5dd7a-6d4d-482a-95f7-26f54ad32016",
   "metadata": {},
   "outputs": [
    {
     "name": "stdout",
     "output_type": "stream",
     "text": [
      "[\"visually stunning\", \"serene\", \"mountain landscape\", \"sunset\", \"vibrant hues\"]\n"
     ]
    }
   ],
   "source": [
    "text=f\"\"\"\n",
    "Create a visually stunning image of a serene mountain landscape at sunset, with vibrant hues of orange, pink, \\\n",
    "and purple illuminating the sky. The mountains should be covered in lush greenery, with cascading waterfalls \\\n",
    "flowing down their sides. In the foreground, include a crystal-clear lake reflecting the majestic scene, \\\n",
    "surrounded by tall pine trees. The image should capture the tranquility and beauty of nature, with every \\\n",
    "intricate detail meticulously depicted.\n",
    "\"\"\"\n",
    "\n",
    "prompt=f\"\"\"\n",
    "Identify list of tags from given prompt delimited by <>. \\\n",
    "No more than five are included. \\\n",
    "Format your answer with array of items.\n",
    "Prompt: <{text}>\n",
    "\"\"\"\n",
    "\n",
    "response = get_completion(prompt)\n",
    "print(response)"
   ]
  },
  {
   "cell_type": "markdown",
   "id": "65f33c90-1577-4ea3-a26c-06edf5adf248",
   "metadata": {},
   "source": [
    "### Pagination Problem"
   ]
  },
  {
   "cell_type": "code",
   "execution_count": 33,
   "id": "d7b9ba61-710b-436f-8b39-efcb06864582",
   "metadata": {},
   "outputs": [
    {
     "data": {
      "text/plain": [
       "'\\nMahatma Gandhi contains\\n- Highlighted six-pack abs\\n- Traning kids in Karate\\n- while listening music through AirPods\\n'"
      ]
     },
     "execution_count": 33,
     "metadata": {},
     "output_type": "execute_result"
    }
   ],
   "source": [
    "# Don't test it here, it will cost huge amount \n",
    "\n",
    "text = f\"\"\"\n",
    "type Collection struct {\n",
    "\tID             primitive.ObjectID   `json:\"id,omitempty\" bson:\"_id,omitempty\"`\n",
    "\tOwner          string               `json:\"owner,omitempty\" bson:\"owner,omitempty\"`\n",
    "\tEmailAddress   string               `json:\"email_Address,omitempty\" bson:\"email_address,omitempty\"`\n",
    "\tImageURL       string               `json:\"image_url,omitempty\" bson:\"image_url,omitempty\"`\n",
    "\tPrompt         string               `json:\"prompt,omitempty\" bson:\"prompt,omitempty\"`\n",
    "\tAspectRatio    string               `json:\"aspect_ratio,omitempty\" bson:\"aspect_ratio,omitempty\"`\n",
    "\tModel          string               `json:\"model,omitempty\" bson:\"model,omitempty\"`\n",
    "\tEnhanced       string               `json:\"enhanced,omitempty\" bson:\"enhanced,omitempty\"`\n",
    "\tListed         bool                 `json:\"listed\" bson:\"listed\"`\n",
    "\tMarketPlace    MarketPlace          `json:\"market_place,omitempty\" bson:\"market_place\"`\n",
    "\tActivity       []CollectionActivity `json:\"activity,omitempty\" bson:\"activity,omitempty\"`\n",
    "\tCreatedAt      time.Time            `json:\"created_at,omitempty\" bson:\"created_at,omitempty\"`\n",
    "\tModifiedAt     time.Time            `json:\"modified_at,omitempty\" bson:\"modified_at,omitempty\"`\n",
    "\tType           string               `json:\"type\" bson:\"type\"`\n",
    "\tNegativePrompt string               `json:\"negative_prompt\" bson:\"negative_prompt\"`\n",
    "\tSteps          string               `json:\"steps\" bson:\"steps\"`\n",
    "\tSeed           string               `json:\"seed\" bson:\"seed\"`\n",
    "\tScheduler      string               `json:\"scheduler\" bson:\"scheduler\"`\n",
    "}\n",
    "\n",
    "type MarketPlace struct {\n",
    "\tName        string    `json:\"name,omitempty\" bson:\"name,omitempty\"`\n",
    "\tDescription string    `json:\"description,omitempty\" bson:\"description,omitempty\"`\n",
    "\tDenom       string    `json:\"denom,omitempty\" bson:\"denom,omitempty\"`\n",
    "\tAmount      int64     `json:\"amount,omitempty\" bson:\"amount,omitempty\"`\n",
    "\tCreatedAt   time.Time `json:\"created_at,omitempty\" bson:\"created_at,omitempty\"`\n",
    "\tModifiedAt  time.Time `json:\"modified_at,omitempty\" bson:\"modified_at,omitempty\"`\n",
    "\tLikedUsers  []string  `json:\"liked_users,omitempty\" bson:\"liked_users,omitempty\"`\n",
    "}\n",
    "\n",
    "type CollectionActivity struct {\n",
    "\tActionType  string    `json:\"action_type,omitempty\" bson:\"action_type,omitempty\"`\n",
    "\tActionedAt  time.Time `json:\"actioned_at,omitempty\" bson:\"actioned_at,omitempty\"`\n",
    "\tDescription string    `json:\"description,omitempty\" bson:\"description,omitempty\"`\n",
    "}\n",
    "\n",
    "Statment:\n",
    "We are using Mongodb to store above struture information in our backend. We are using rest endpoints \\\n",
    "to get the request to backend and resolve it.\n",
    "\n",
    "Problem:\n",
    "But when we try to Query from Marketplace where bson.M{\"market_place.amount\": 1} with pagination \\\n",
    "The result are incosistent and not working properly \\\n",
    "This is happened because amount will be same most of the case so we are getting inconsistent data \\\n",
    "I am attached our code to check and verify delimited by triple backtricks \\\n",
    "\n",
    "Code:\n",
    "```\n",
    "func (c Collections) FindAll(filer, sort bson.M, page, limit int64) (Collections, error) {\n",
    "\tcoll := client.Database(config.DB_NAME).Collection(\"collections\")\n",
    "\toptions := options.Find().SetSort(sort).SetLimit(limit)\n",
    "\toptions = options.SetSkip((page - 1) * limit)\n",
    "\tcursor, err := coll.Find(context.Background(), filer, options)\n",
    "\tif err != nil {\n",
    "\t\treturn nil, err\n",
    "\t}\n",
    "\n",
    "\tvar collections Collections\n",
    "\tfor cursor.Next(context.TODO()) {\n",
    "\t\tvar collection Collection\n",
    "\t\tif err := cursor.Decode(&collection); err != nil {\n",
    "\t\t\treturn nil, err\n",
    "\t\t}\n",
    "\n",
    "\t\tcollections = append(collections, collection)\n",
    "\t}\n",
    "\treturn collections, nil\n",
    "}\n",
    "```\n",
    "\"\"\"\n",
    "\n",
    "\n",
    "prompt=f\"\"\"\n",
    "Your task is to find solution for given problem delimeted by <> \\\n",
    "- Don't make any assumption \n",
    "- Give me the possible ways to solve the problem \n",
    "Problem: <{prompt}>\n",
    "\"\"\""
   ]
  },
  {
   "cell_type": "code",
   "execution_count": null,
   "id": "42b86dd7",
   "metadata": {},
   "outputs": [],
   "source": []
  },
  {
   "cell_type": "markdown",
   "id": "051a5245",
   "metadata": {},
   "source": [
    "## Design Progessive Rewards Program"
   ]
  },
  {
   "cell_type": "code",
   "execution_count": null,
   "id": "1211bad6-af99-4cf3-8ac0-f72c1937466a",
   "metadata": {},
   "outputs": [],
   "source": [
    "text =\"\"\"\n",
    "We have product that can generate Images using text-to-image models. We consume credit from user\\\n",
    "when ever he generate image in our platform. We have images in our platfrom. But currently we are looking into \\\n",
    "what type of Credit system, we can have in order to have \\\n",
    "engagement in our platform. And also note that we are currently \\\n",
    "focused on the youth of India.\n",
    "\"\"\"\n",
    "\n",
    "\n",
    "prompt=f\"\"\"\n",
    "Your task is to solve the problem \\\n",
    "that Delimited by <> \\\n",
    "Problem: <{text}>\n",
    "\"\"\"\n",
    "\n"
   ]
  },
  {
   "cell_type": "markdown",
   "id": "51a20f4d",
   "metadata": {},
   "source": [
    "## Image based binary Trading Plaform "
   ]
  },
  {
   "cell_type": "code",
   "execution_count": null,
   "id": "ef34035d",
   "metadata": {},
   "outputs": [],
   "source": [
    "text=\"\"\"\n",
    "We have product that can generate Images using text-to-image models. We consume credit from user\\\n",
    "when ever he generate image in our platform. We have images in our platfrom. \\\n",
    "How can I create binary trading platfrom for images\n",
    "\"\"\"\n",
    "\n",
    "prompt=f\"\"\"\n",
    "Your task is to solve the problem \\\n",
    "that Delimited by <> \\\n",
    "Problem: <{text}>\n",
    "\"\"\""
   ]
  }
 ],
 "metadata": {
  "kernelspec": {
   "display_name": "Python 3 (ipykernel)",
   "language": "python",
   "name": "python3"
  },
  "language_info": {
   "codemirror_mode": {
    "name": "ipython",
    "version": 3
   },
   "file_extension": ".py",
   "mimetype": "text/x-python",
   "name": "python",
   "nbconvert_exporter": "python",
   "pygments_lexer": "ipython3",
   "version": "3.11.4"
  }
 },
 "nbformat": 4,
 "nbformat_minor": 5
}
