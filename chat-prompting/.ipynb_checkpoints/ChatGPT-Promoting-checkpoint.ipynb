{
 "cells": [
  {
   "cell_type": "markdown",
   "id": "77488ccc-37c3-4e28-beec-cfa987464764",
   "metadata": {},
   "source": [
    "### Guidlines for Promoting"
   ]
  },
  {
   "cell_type": "code",
   "execution_count": 2,
   "id": "44acab3b-2430-4999-834a-7905bded6eb9",
   "metadata": {},
   "outputs": [],
   "source": [
    "import openai,dotenv\n",
    "import os\n",
    "dotenv.load_dotenv()\n",
    "\n",
    "openai.api_key = os.getenv(\"GPT4_KEY\")"
   ]
  },
  {
   "cell_type": "code",
   "execution_count": 3,
   "id": "96e322e3-3acb-4526-9a03-d5145a206bd2",
   "metadata": {},
   "outputs": [],
   "source": [
    "def get_completion(prompt, model=\"gpt-4-1106-preview\"):\n",
    "    messages = [{\"role\": \"user\", \"content\":prompt}]\n",
    "    response = openai.ChatCompletion.create(\n",
    "        model = model,\n",
    "        messages = messages,\n",
    "        temperature = 0  # Degree of random ness model output\n",
    "    )\n",
    "    return response.choices[0].message[\"content\"]    "
   ]
  },
  {
   "cell_type": "markdown",
   "id": "467cc523-c559-47f3-a9f9-cd25b8a1cfbc",
   "metadata": {},
   "source": [
    "## Promoting Princicples "
   ]
  },
  {
   "cell_type": "markdown",
   "id": "269d0f56-89ee-41d0-9982-d93951078569",
   "metadata": {},
   "source": [
    "- 1. Write clear and specific instructions \n",
    "- 2. Give the model time to \"think\""
   ]
  },
  {
   "cell_type": "markdown",
   "id": "cf9ff346-7a6e-4eb0-a6fd-f0cdc158421f",
   "metadata": {},
   "source": [
    "### Tactics"
   ]
  },
  {
   "cell_type": "markdown",
   "id": "6e6c6ce4-22f2-49a5-b012-c16bcad6bba8",
   "metadata": {},
   "source": [
    "#### Tactics 1: Use the delimeters to clearly indicate the distint part of input \n",
    "- Delimeters can be like any thing `\"\"\" \"\"\"`, ````, <tag> </tag> :\n",
    "- Avoid Prompt Injection"
   ]
  },
  {
   "cell_type": "code",
   "execution_count": 4,
   "id": "f2f6df44-ac6a-4599-aaad-f19392b0ebc3",
   "metadata": {},
   "outputs": [
    {
     "data": {
      "text/plain": [
       "'To guide a model towards the desired output and reduce irrelevant or incorrect responses, it is important to provide clear and specific instructions, which can be achieved through longer prompts that offer more clarity and context.'"
      ]
     },
     "execution_count": 4,
     "metadata": {},
     "output_type": "execute_result"
    }
   ],
   "source": [
    "text= f\"\"\"\n",
    "You should express what you want a model to do by \\ \n",
    "providing instructions that are as clear and \\ \n",
    "specific as you can possibly make them. \\ \n",
    "This will guide the model towards the desired output, \\ \n",
    "and reduce the chances of receiving irrelevant \\ \n",
    "or incorrect responses. Don't confuse writing a \\ \n",
    "clear prompt with writing a short prompt. \\ \n",
    "In many cases, longer prompts provide more clarity \\ \n",
    "and context for the model, which can lead to \\ \n",
    "more detailed and relevant outputs.\n",
    "\"\"\"\n",
    "\n",
    "prompt=f\"\"\"\n",
    "\n",
    "Summarise the text delimited by triple backticks \\\n",
    "into a single  sentence \\\n",
    "```{text}```\n",
    "\"\"\"\n",
    "\n",
    "response = get_completion(prompt)\n",
    "response"
   ]
  },
  {
   "cell_type": "markdown",
   "id": "4accefde-25ee-4982-b535-81134da07220",
   "metadata": {},
   "source": [
    "### Tactic 2: Ask for a structured output\n",
    "- JSON, HTML"
   ]
  },
  {
   "cell_type": "code",
   "execution_count": 16,
   "id": "e03d1f09-4759-46f9-8f6b-e87ddb49244e",
   "metadata": {},
   "outputs": [
    {
     "name": "stdout",
     "output_type": "stream",
     "text": [
      "[\n",
      "  {\n",
      "    \"book_id\": 1,\n",
      "    \"title\": \"To Kill a Mockingbird\",\n",
      "    \"author\": \"Harper Lee\",\n",
      "    \"genres\": [\"Fiction\", \"Classic\", \"Coming-of-age\"]\n",
      "  },\n",
      "  {\n",
      "    \"book_id\": 2,\n",
      "    \"title\": \"1984\",\n",
      "    \"author\": \"George Orwell\",\n",
      "    \"genres\": [\"Fiction\", \"Dystopian\", \"Political\"]\n",
      "  },\n",
      "  {\n",
      "    \"book_id\": 3,\n",
      "    \"title\": \"The Great Gatsby\",\n",
      "    \"author\": \"F. Scott Fitzgerald\",\n",
      "    \"genres\": [\"Fiction\", \"Classic\", \"Romance\"]\n",
      "  }\n",
      "]\n"
     ]
    }
   ],
   "source": [
    "prompt=f\"\"\"\n",
    "Generate list of three books title with their authors and genres. \\\n",
    "Provide them in JSON format with following keys:\n",
    "book_id, title,author and genres\n",
    "\"\"\"\n",
    "\n",
    "reponse = get_completion(prompt)\n",
    "print(reponse)"
   ]
  },
  {
   "cell_type": "markdown",
   "id": "021f152c-8c8c-49d3-bbfe-90d36726aa6b",
   "metadata": {},
   "source": [
    "#### Tactic 3: Ask the model to check whether conditions are satisfied  "
   ]
  },
  {
   "cell_type": "code",
   "execution_count": 19,
   "id": "9fd65035-f0c0-44e7-a984-901e702f5097",
   "metadata": {},
   "outputs": [
    {
     "name": "stdout",
     "output_type": "stream",
     "text": [
      "Step - 1 : Get some water boiling.\n",
      "Step - 2 : Grab a cup and put a tea bag in it.\n",
      "Step - 3 : Once the water is hot enough, pour it over the tea bag.\n",
      "Step - 4 : Let it sit for a bit so the tea can steep.\n",
      "Step - 5 : After a few minutes, take out the tea bag.\n",
      "Step - 6 : If you like, you can add some sugar or milk to taste.\n",
      "Step - 7 : Enjoy your delicious cup of tea.\n"
     ]
    }
   ],
   "source": [
    "text_1 = f\"\"\"\n",
    "Making a cup of tea is easy! First, you need to get some \\ \n",
    "water boiling. While that's happening, \\ \n",
    "grab a cup and put a tea bag in it. Once the water is \\ \n",
    "hot enough, just pour it over the tea bag. \\ \n",
    "Let it sit for a bit so the tea can steep. After a \\ \n",
    "few minutes, take out the tea bag. If you \\ \n",
    "like, you can add some sugar or milk to taste. \\ \n",
    "And that's it! You've got yourself a delicious \\ \n",
    "cup of tea to enjoy.\n",
    "\"\"\"\n",
    "\n",
    "prompt =f\"\"\"\n",
    "You will provided  with text delimited by triple quotes \\\n",
    "If it containes sequence of instructions, \\\n",
    "re-write those instructions in the following format :\n",
    "Step - 1 : ....\n",
    "Step - 2 : ...\n",
    "....\n",
    "Step - N\n",
    "\n",
    "If the text doesn't contains any sequence of instuctions, \\\n",
    "then simply write \"No steps provided.\"\n",
    "\\\"\\\"\\\"{text_1}\\\"\\\"\\\"\n",
    "\"\"\"\n",
    "\n",
    "response = get_completion(prompt)\n",
    "print(response)"
   ]
  },
  {
   "cell_type": "code",
   "execution_count": 21,
   "id": "4128c209-0186-4d12-8d38-c46fee1b27dc",
   "metadata": {},
   "outputs": [
    {
     "name": "stdout",
     "output_type": "stream",
     "text": [
      "No steps provided.\n"
     ]
    }
   ],
   "source": [
    "text_1 = f\"\"\"\n",
    "write about Gandi Tata with his wife love story\n",
    "\"\"\"\n",
    "\n",
    "prompt =f\"\"\"\n",
    "You will provided  with text delimited by triple quotes \\\n",
    "If it containes sequence of instructions, \\\n",
    "re-write those instructions in the following format :\n",
    "Step - 1 : ....\n",
    "Step - 2 : ...\n",
    "....\n",
    "Step - N\n",
    "\n",
    "If the text doesn't contains any sequence of instuctions, \\\n",
    "then simply write \"No steps provided.\"\n",
    "\\\"\\\"\\\"{text_1}\\\"\\\"\\\"\n",
    "\"\"\"\n",
    "\n",
    "response = get_completion(prompt)\n",
    "print(response)"
   ]
  },
  {
   "cell_type": "markdown",
   "id": "2b17cbf1-9522-4218-9928-faab23c68ed6",
   "metadata": {},
   "source": [
    "### Tactic 4 : Few Short prompting"
   ]
  },
  {
   "cell_type": "code",
   "execution_count": 24,
   "id": "028d8ac7-ad91-466c-80c4-449f1c5dc30e",
   "metadata": {},
   "outputs": [
    {
     "name": "stdout",
     "output_type": "stream",
     "text": [
      "<Wife>: Not at the moment, my love. Do you have something in mind?\n"
     ]
    }
   ],
   "source": [
    "prompt=f\"\"\"\n",
    "Your task is to answer in consistent style.\n",
    "\n",
    "<Husband> : hi baby, how are you?\n",
    "\n",
    "<wife>: I am fine my dear\n",
    "\n",
    "<Husband> : Is there any plans for go out?\n",
    "\"\"\"\n",
    "\n",
    "response = get_completion(prompt)\n",
    "print(response)"
   ]
  },
  {
   "cell_type": "markdown",
   "id": "59a56943-87dd-4d68-8347-c76a340ae47e",
   "metadata": {},
   "source": [
    "## Prinicipal 2: Give a model time to think"
   ]
  },
  {
   "cell_type": "markdown",
   "id": "27b9f5bb-e251-4611-923e-0eed0f5212fc",
   "metadata": {},
   "source": [
    "#### Tactic 1: Specify the steps required to complete the task"
   ]
  },
  {
   "cell_type": "code",
   "execution_count": 36,
   "id": "1caa5cdb-44b7-4932-bc52-df587b517a84",
   "metadata": {},
   "outputs": [
    {
     "name": "stdout",
     "output_type": "stream",
     "text": [
      "Summary: Siblings Jack and Jill go on a quest to fetch water from a hilltop well, but misfortune strikes when Jack trips on a stone and tumbles down the hill, with Jill following suit, yet they return home and continue exploring with delight.\n",
      "\n",
      "Translation: Les frères et sœurs Jack et Jill partent à la recherche d'eau d'un puits au sommet d'une colline, mais le malheur frappe quand Jack trébuche sur une pierre et dévale la colline, suivi de Jill, mais ils rentrent chez eux et continuent à explorer avec joie.\n",
      "\n",
      "Names: Jack, Jill\n",
      "\n",
      "Output JSON: \n",
      "{\n",
      "  \"french_summary\": \"Les frères et sœurs Jack et Jill partent à la recherche d'eau d'un puits au sommet d'une colline, mais le malheur frappe quand Jack trébuche sur une pierre et dévale la colline, suivi de Jill, mais ils rentrent chez eux et continuent à explorer avec joie.\",\n",
      "  \"num_names\": 2\n",
      "}\n"
     ]
    }
   ],
   "source": [
    "text = f\"\"\"\n",
    "In a charming village, siblings Jack and Jill set out on \\ \n",
    "a quest to fetch water from a hilltop \\ \n",
    "well. As they climbed, singing joyfully, misfortune \\ \n",
    "struck—Jack tripped on a stone and tumbled \\ \n",
    "down the hill, with Jill following suit. \\ \n",
    "Though slightly battered, the pair returned home to \\ \n",
    "comforting embraces. Despite the mishap, \\ \n",
    "their adventurous spirits remained undimmed, and they \\ \n",
    "continued exploring with delight.\n",
    "\"\"\"\n",
    "\n",
    "\n",
    "# example 1\n",
    "prompt_1=f\"\"\"\n",
    "\n",
    "Perform the following actions:\n",
    "1. Summarise the following text delimited by <> with 1 sentence \n",
    "2. Translate the summay into French \n",
    "3. List each name in the French Summary \n",
    "4. Output the json object that contains the following keys: french_summay, num_names.\n",
    "\n",
    "Use the following format:\n",
    "Text: <text to summarize>\n",
    "Summary: <summary>\n",
    "Translation: <summary translation>\n",
    "Names: <list of names in Italian summary>\n",
    "Output JSON: <json with summary and num_names>\n",
    "\n",
    "Seperate your answers with line breaks \n",
    "\n",
    "Text: <{text}>\n",
    "\"\"\"\n",
    "\n",
    "response = get_completion(prompt_1)\n",
    "print(response)"
   ]
  },
  {
   "cell_type": "markdown",
   "id": "3bc0a7a0-802d-4fb5-a160-fb6cc40afbdc",
   "metadata": {},
   "source": [
    "### Tactic 2: Instuct model to work on  own solution before coming to any conclusion"
   ]
  },
  {
   "cell_type": "code",
   "execution_count": 38,
   "id": "77d93816-877b-403f-8bb4-7ba37bfcd28b",
   "metadata": {},
   "outputs": [
    {
     "name": "stdout",
     "output_type": "stream",
     "text": [
      "The student's solution is correct. They correctly identified the costs for land, solar panels, and maintenance, and calculated the total cost for the first year of operations as a function of the number of square feet.\n"
     ]
    }
   ],
   "source": [
    "prompt = f\"\"\"\n",
    "Determine if the student's solution is correct or not.\n",
    "\n",
    "Question:\n",
    "I'm building a solar power installation and I need \\\n",
    " help working out the financials. \n",
    "- Land costs $100 / square foot\n",
    "- I can buy solar panels for $250 / square foot\n",
    "- I negotiated a contract for maintenance that will cost \\ \n",
    "me a flat $100k per year, and an additional $10 / square \\\n",
    "foot\n",
    "What is the total cost for the first year of operations \n",
    "as a function of the number of square feet.\n",
    "\n",
    "Student's Solution:\n",
    "Let x be the size of the installation in square feet.\n",
    "Costs:\n",
    "1. Land cost: 100x\n",
    "2. Solar panel cost: 250x\n",
    "3. Maintenance cost: 100,000 + 100x\n",
    "Total cost: 100x + 250x + 100,000 + 100x = 450x + 100,000\n",
    "\"\"\"\n",
    "response = get_completion(prompt)\n",
    "print(response)"
   ]
  },
  {
   "cell_type": "markdown",
   "id": "261de191-a4b1-4386-85eb-4980141df630",
   "metadata": {},
   "source": [
    "#### Note that the student's solution is actually not correct.\n",
    "#### We can fix this by instructing the model to work out its own solution first."
   ]
  },
  {
   "cell_type": "code",
   "execution_count": 41,
   "id": "e1cf78f1-aa59-422f-bc65-748b8c245035",
   "metadata": {},
   "outputs": [
    {
     "name": "stdout",
     "output_type": "stream",
     "text": [
      "To calculate the total cost for the first year of operations, we need to add up the costs of land, solar panels, and maintenance.\n",
      "\n",
      "Let x be the size of the installation in square feet.\n",
      "\n",
      "Costs:\n",
      "1. Land cost: $100 * x\n",
      "2. Solar panel cost: $250 * x\n",
      "3. Maintenance cost: $100,000 + $10 * x\n",
      "\n",
      "Total cost: $100 * x + $250 * x + $100,000 + $10 * x = $360 * x + $100,000\n",
      "\n",
      "Is the student's solution the same as the actual solution just calculated:\n",
      "No\n",
      "\n",
      "Student grade:\n",
      "Incorrect\n"
     ]
    }
   ],
   "source": [
    "prompt = f\"\"\"\n",
    "Your task is to determine if the student's solution \\\n",
    "is correct or not.\n",
    "To solve the problem do the following:\n",
    "- First, work out your own solution to the problem. \n",
    "- Then compare your solution to the student's solution \\ \n",
    "and evaluate if the student's solution is correct or not. \n",
    "Don't decide if the student's solution is correct until \n",
    "you have done the problem yourself.\n",
    "\n",
    "Use the following format:\n",
    "Question:\n",
    "```\n",
    "question here\n",
    "```\n",
    "Student's solution:\n",
    "```\n",
    "student's solution here\n",
    "```\n",
    "Actual solution:\n",
    "```\n",
    "steps to work out the solution and your solution here\n",
    "```\n",
    "Is the student's solution the same as actual solution \\\n",
    "just calculated:\n",
    "```\n",
    "yes or no\n",
    "```\n",
    "Student grade:\n",
    "```\n",
    "correct or incorrect\n",
    "```\n",
    "\n",
    "Question:\n",
    "```\n",
    "I'm building a solar power installation and I need help \\\n",
    "working out the financials. \n",
    "- Land costs $100 / square foot\n",
    "- I can buy solar panels for $250 / square foot\n",
    "- I negotiated a contract for maintenance that will cost \\\n",
    "me a flat $100k per year, and an additional $10 / square \\\n",
    "foot\n",
    "What is the total cost for the first year of operations \\\n",
    "as a function of the number of square feet.\n",
    "``` \n",
    "Student's solution:\n",
    "```\n",
    "Let x be the size of the installation in square feet.\n",
    "Costs:\n",
    "1. Land cost: 100x\n",
    "2. Solar panel cost: 250x\n",
    "3. Maintenance cost: 100,000 + 100x\n",
    "Total cost: 100x + 250x + 100,000 + 100x = 450x + 100,000\n",
    "```\n",
    "Actual solution:\n",
    "\"\"\"\n",
    "response = get_completion(prompt)\n",
    "print(response)"
   ]
  },
  {
   "cell_type": "code",
   "execution_count": null,
   "id": "42db65b6-5588-41f4-a59d-298816c83e87",
   "metadata": {},
   "outputs": [],
   "source": []
  }
 ],
 "metadata": {
  "kernelspec": {
   "display_name": "Python 3 (ipykernel)",
   "language": "python",
   "name": "python3"
  },
  "language_info": {
   "codemirror_mode": {
    "name": "ipython",
    "version": 3
   },
   "file_extension": ".py",
   "mimetype": "text/x-python",
   "name": "python",
   "nbconvert_exporter": "python",
   "pygments_lexer": "ipython3",
   "version": "3.11.4"
  }
 },
 "nbformat": 4,
 "nbformat_minor": 5
}
