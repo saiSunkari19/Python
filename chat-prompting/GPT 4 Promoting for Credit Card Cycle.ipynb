{
 "cells": [
  {
   "cell_type": "code",
   "execution_count": 1,
   "id": "d0ab8137-8997-4caa-bac6-9357b45270b7",
   "metadata": {},
   "outputs": [
    {
     "name": "stdout",
     "output_type": "stream",
     "text": [
      "Collecting python-dotenv\n",
      "  Downloading python_dotenv-1.0.0-py3-none-any.whl (19 kB)\n",
      "Installing collected packages: python-dotenv\n",
      "Successfully installed python-dotenv-1.0.0\n",
      "\n",
      "\u001b[1m[\u001b[0m\u001b[34;49mnotice\u001b[0m\u001b[1;39;49m]\u001b[0m\u001b[39;49m A new release of pip is available: \u001b[0m\u001b[31;49m23.0.1\u001b[0m\u001b[39;49m -> \u001b[0m\u001b[32;49m23.3.2\u001b[0m\n",
      "\u001b[1m[\u001b[0m\u001b[34;49mnotice\u001b[0m\u001b[1;39;49m]\u001b[0m\u001b[39;49m To update, run: \u001b[0m\u001b[32;49mpip install --upgrade pip\u001b[0m\n"
     ]
    }
   ],
   "source": [
    "!pip3 install python-dotenv"
   ]
  },
  {
   "cell_type": "code",
   "execution_count": 4,
   "id": "be9eaf4d-6093-435d-8dc8-f505a1c8d58c",
   "metadata": {},
   "outputs": [],
   "source": [
    "import dotenv, os\n",
    "import openai\n",
    "dotenv.load_dotenv()\n",
    "\n",
    "openai.api_key = os.getenv('GPT4_KEY')"
   ]
  },
  {
   "cell_type": "code",
   "execution_count": 5,
   "id": "09c680a8-5de1-4dcb-80a7-6085e0817f0f",
   "metadata": {},
   "outputs": [],
   "source": [
    "# Model selection\n",
    "def get_completion(prompt, model=\"gpt-4-1106-preview\"):\n",
    "    messages = [{\"role\": \"user\", \"content\":prompt}]\n",
    "    response = openai.ChatCompletion.create(\n",
    "        model = model,\n",
    "        messages = messages,\n",
    "        temperature = 0  # Degree of random ness model output\n",
    "    )\n",
    "    return response.choices[0].message[\"content\"]  "
   ]
  },
  {
   "cell_type": "code",
   "execution_count": 8,
   "id": "1a3b470f-b8b7-4d6e-a1df-232bd34d2ab7",
   "metadata": {},
   "outputs": [
    {
     "data": {
      "text/plain": [
       "'```json\\n{\\n  \"investment_advice\": {\\n    \"objective\": \"To invest 30,000 INR on a monthly basis with a target return of 1% per month (12% per annum).\",\\n    \"challenges\": [\\n      \"Finding an investment option that offers a consistent 1% monthly return is difficult.\",\\n      \"Most investments with high returns come with higher risks and returns are not guaranteed.\",\\n      \"The investment horizon is very short (monthly), which limits the options available.\"\\n    ],\\n    \"solutions\": [\\n      {\\n        \"solution_type\": \"Fixed Deposit\",\\n        \"description\": \"Invest in a bank fixed deposit that offers a monthly interest payout option. However, the interest rate is likely to be lower than 1% per month.\"\\n      },\\n      {\\n        \"solution_type\": \"Debt Mutual Funds\",\\n        \"description\": \"Consider short-term debt mutual funds or liquid funds. They offer better liquidity and potentially higher returns than savings accounts, but returns are not fixed and can be lower than 1% per month.\"\\n      },\\n      {\\n        \"solution_type\": \"Recurring Deposits\",\\n        \"description\": \"A recurring deposit with a bank could be set up, but again, the interest rates are usually lower than 1% per month.\"\\n      },\\n      {\\n        \"solution_type\": \"Stock Market\",\\n        \"description\": \"Investing in the stock market through systematic investment plans (SIPs) in equity mutual funds could offer higher returns, but they come with higher risk and returns are not guaranteed.\"\\n      },\\n      {\\n        \"solution_type\": \"Peer-to-Peer Lending\",\\n        \"description\": \"Platforms that offer peer-to-peer lending might promise higher returns, but they come with significant risk and are not suitable for short-term investment horizons.\"\\n      }\\n    ],\\n    \"recommendation\": {\\n      \"best_option\": \"Debt Mutual Funds\",\\n      \"reason\": \"Given the short investment horizon and the need for liquidity, a short-term debt mutual fund or liquid fund might be the most suitable option. However, it is important to note that the returns are not guaranteed and could be lower than the desired 1% per month.\"\\n    },\\n    \"disclaimer\": \"Investments are subject to market risks. Please read all scheme-related documents carefully before investing. Past performance is not indicative of future returns.\"\\n  }\\n}\\n```\\n\\nAs an investment advisor, I must emphasize that it is quite challenging to find an investment that will consistently provide a 1% return per month with low risk, especially on a short-term basis. The solutions provided above are some of the common investment options, but none of them can guarantee a fixed 1% monthly return. It is crucial to understand the risks associated with each investment option and to have realistic expectations regarding returns. It is also advisable to consult with a financial advisor to discuss your specific financial situation and goals before making any investment decisions.'"
      ]
     },
     "execution_count": 8,
     "metadata": {},
     "output_type": "execute_result"
    }
   ],
   "source": [
    "text= f\"\"\"\n",
    "I have 30,000 INR, every 45 days I need to pay this money to bank \\\n",
    "I want to invest in monthly basis and get return on that money and after month \\\n",
    "I will pay the principle amount to bank and repeat. \\\n",
    "Here I am looking to invest in monthly basis with fixed return around 12% per annual \\\n",
    "Can you tell where should I invest in order to get 1% return every month on my captital \n",
    "\"\"\"\n",
    "\n",
    "prompt=f\"\"\"\n",
    "You are an investment advisor, help with possible solutions for \\\n",
    "for given problem\n",
    "```{text}```\n",
    "- Output the solution in readable format like json and lines..\n",
    "\"\"\"\n",
    "\n",
    "response = get_completion(prompt)\n",
    "response"
   ]
  },
  {
   "cell_type": "code",
   "execution_count": 10,
   "id": "4521e3d8-5446-443e-b4aa-fdf085555901",
   "metadata": {},
   "outputs": [
    {
     "data": {
      "text/plain": [
       "\"As an investment advisor, I would like to clarify that expecting a fixed return of 1% per month (which equates to 12% per annum) without taking on significant risk is challenging, especially in a low-interest-rate environment. However, I can suggest some investment options that you might consider, along with the potential use of Peer-to-Peer (P2P) lending platforms in India.\\n\\n1. **Debt Mutual Funds**:\\n   - You could consider investing in debt mutual funds, particularly liquid funds or ultra-short-term funds. These funds invest in short-term debt instruments and can offer better returns than savings accounts, although they do not guarantee a fixed 1% monthly return.\\n   - You can redeem your investment at the end of each month to make your payment to the bank. However, the returns are subject to market conditions and fund performance.\\n\\n2. **Fixed Deposits**:\\n   - Fixed deposits (FDs) with banks or Non-Banking Financial Companies (NBFCs) can offer fixed returns, but the interest rates are usually lower than 1% per month. You would need to look for FDs with the highest possible interest rates and ensure that they allow for monthly interest payouts.\\n\\n3. **Recurring Deposits**:\\n   - Recurring deposits (RDs) allow you to deposit a fixed amount every month and earn interest. However, the interest rates on RDs are typically lower than what you are seeking.\\n\\n4. **Arbitrage Funds**:\\n   - Arbitrage funds can be another option. They aim to exploit the price differential in the cash and derivatives market to generate returns. They are considered relatively low-risk and are taxed as equity funds, which can be more tax-efficient than interest income.\\n\\n5. **Peer-to-Peer Lending Platforms**:\\n   - P2P lending platforms in India allow individuals to lend money to borrowers and earn interest on the loans. Some of the well-known P2P platforms in India include Faircent, Lendbox, i2iFunding, and RupeeCircle.\\n   - P2P lending can potentially offer higher returns than traditional investments, but it also comes with higher risk, including the risk of default by borrowers. It's important to diversify your investments across multiple loans to mitigate this risk.\\n   - Before investing, check the platform's credibility, regulatory compliance, default rates, and the quality of their credit assessment process.\\n   - Keep in mind that P2P investments are not very liquid, as your money is typically locked in until the borrower repays the loan.\\n\\n6. **Corporate Bonds or NCDs**:\\n   - Investing in corporate bonds or Non-Convertible Debentures (NCDs) can offer higher interest rates than bank FDs. However, they come with credit risk, and you should consider the credit rating of the issuing company.\\n\\nBefore making any investment, it's crucial to understand that investments with higher returns come with higher risks. You should also consider the liquidity of the investment, as you need to make a payment every 45 days. It's important to have the money available when you need it without incurring penalties or losses due to early withdrawal.\\n\\nPlease note that the above suggestions are not exhaustive and are for informational purposes only. You should consult with a financial advisor to understand the risks involved and to choose an investment that aligns with your financial goals, risk tolerance, and the need for liquidity. Additionally, the regulatory environment and available financial products are subject to change, so it's important to conduct current research or seek professional advice before making any investment decisions.\""
      ]
     },
     "execution_count": 10,
     "metadata": {},
     "output_type": "execute_result"
    }
   ],
   "source": [
    "text= f\"\"\"\n",
    "I have 30,000 INR, every 45 days I need to pay this money to bank \\\n",
    "I want to invest in monthly basis and get return on that money and after month \\\n",
    "I will pay the principle amount to bank and repeat. \\\n",
    "Here I am looking to invest in monthly basis with fixed return around 12% per annual \\\n",
    "Can you tell where should I invest in order to get 1% return every month on my captital \\\n",
    "How can I use in Peer-to-Peer Lending platfroms and which are best in India\n",
    "\"\"\"\n",
    "\n",
    "prompt=f\"\"\"\n",
    "You are an investment advisor, help with possible solutions for \\\n",
    "for given problem\n",
    "```{text}```\n",
    "\"\"\"\n",
    "\n",
    "response = get_completion(prompt)\n",
    "response"
   ]
  },
  {
   "cell_type": "code",
   "execution_count": 14,
   "id": "1f0fe776-2cf2-47c7-bedc-4ee0fab4e1fa",
   "metadata": {},
   "outputs": [
    {
     "data": {
      "text/plain": [
       "\"To create a cycle that allows you to generate interest using the credit facilities you have, you need to carefully manage the timing of your expenditures and payments. Here's a strategy that could potentially work for you, assuming you have the discipline to follow through and the means to pay off your balances in full to avoid interest charges:\\n\\n### Step 1: Understand Your Credit Terms\\n- **HDFC Credit Card**: ₹30,000 limit, billing date on the 15th, 45 days interest-free period.\\n- **RBL Credit Card**: ₹30,000 limit, billing date on the 15th, 45 days interest-free period.\\n- **Uni Pay 1/3rd Card**: ₹30,000 limit every 15 days, pay after 15 days.\\n\\n### Step 2: Create a Spending and Payment Cycle\\n#### Initial Setup:\\n- **Day 1 (1st of the month)**: Use Uni Pay 1/3rd Card for ₹30,000. You will need to pay this back in 15 days.\\n- **Day 15 (15th of the month)**: Pay off the Uni Pay 1/3rd Card with the HDFC or RBL Credit Card. This starts your 45-day interest-free period for the card used.\\n\\n#### Rotating Credit:\\n- **Day 16-30**: Use the other credit card (the one you didn't use to pay off Uni Pay 1/3rd Card) for your regular expenses up to ₹30,000. This will also have a 45-day interest-free period.\\n\\n#### Paying Off Credit Cards:\\n- **Before Day 30 (before the next Uni Pay 1/3rd Card cycle)**: Pay off the first credit card used to clear the Uni Pay 1/3rd Card before the 45-day period ends to avoid interest.\\n- **Before Day 45 (before the 45-day period ends for the second card)**: Pay off the second credit card.\\n\\n### Step 3: Generate Interest\\n- **Savings Account**: Deposit the ₹30,000 you would have spent initially into a high-interest savings account or a liquid mutual fund.\\n- **Interest Earnings**: Earn interest on the ₹30,000 for approximately 30 days until you need to use it to pay off the first credit card.\\n\\n### Step 4: Repeat the Cycle\\n- Continue this cycle each month, always paying off your balances before the interest-free period ends.\\n\\n### Important Considerations:\\n- **Interest Rates**: Make sure the interest you're earning in the savings account or investment exceeds any potential fees or charges associated with your credit cards.\\n- **Payment Discipline**: Always pay off your credit card balances within the interest-free period to avoid high-interest charges.\\n- **Credit Utilization**: Keep an eye on your credit utilization ratio, as high utilization can negatively impact your credit score.\\n- **Emergency Fund**: Maintain an emergency fund so you're not relying on credit for unexpected expenses.\\n- **Investment Risk**: Be aware of the risks associated with any investment and ensure it is suitable for your short-term liquidity needs.\\n\\n### Example Markdown Output:\\n\\n```markdown\\n# Monthly Credit and Investment Cycle\\n\\n## Credit Card Usage\\n- **HDFC and RBL Credit Cards**: Rotate usage for regular expenses, ensuring each card is paid off within the 45-day interest-free period.\\n\\n## Uni Pay 1/3rd Card\\n- Use and pay off every 15 days using the credit card that is in the current billing cycle.\\n\\n## Savings and Investments\\n- Deposit initial funds into a high-interest savings account or liquid mutual fund to earn interest.\\n\\n## Monthly Checklist\\n- [ ] Day 1: Use Uni Pay 1/3rd Card for ₹30,000.\\n- [ ] Day 15: Pay off Uni Pay 1/3rd Card with one of the credit cards.\\n- [ ] Day 16-30: Use the second credit card for up to ₹30,000.\\n- [ ] Before Day 30: Pay off the first credit card used for Uni Pay 1/3rd Card.\\n- [ ] Before Day 45: Pay off the second credit card.\\n- [ ] Repeat cycle and monitor interest earnings and credit utilization.\\n```\\n\\nPlease note that this strategy requires careful financial management and discipline. It's also important to consider that any form of 'credit card arbitrage' carries risks, and the benefits may be marginal when compared to the potential downsides, such as falling into debt or damaging your credit score. Always consult with a financial advisor before implementing such strategies.\""
      ]
     },
     "execution_count": 14,
     "metadata": {},
     "output_type": "execute_result"
    }
   ],
   "source": [
    "text= f\"\"\"\n",
    "I have HDFC credit card , where I can use 30000 per month and billing date is every month 15th and I have 45 days to pay, after fund use. \\\n",
    "And also I have RBL credit card, where I can use 30000 per month and billing data is every month of 15th and I have 45 days to pay, after fund use. \\\n",
    "And I have Uni Pay Check , I am able to get 30000 per 15 days and I need to pay after that. \\\n",
    "Using these above information, How can I utilise these options and create cycle  to geneate \\ \n",
    "intrest using the total amount and pay the bank correclty, every month.\n",
    "\"\"\"\n",
    "\n",
    "prompt=f\"\"\"\n",
    "You are an investment advisor, help with possible solutions for \\\n",
    "for given problem\n",
    "```{text}```\n",
    "Output text with markdown \n",
    "\"\"\"\n",
    "\n",
    "response = get_completion(prompt)\n",
    "response"
   ]
  },
  {
   "cell_type": "code",
   "execution_count": 18,
   "id": "81ddad1e-726e-48e8-a043-81156f236760",
   "metadata": {},
   "outputs": [
    {
     "data": {
      "text/plain": [
       "\"Certainly! To optimize the use of your credit facilities and Uni Pay 1/3rd Card (assuming Uni Pay Check refers to the Uni Pay 1/3rd Card which allows you to split your payments into three parts), you can create a cycle that allows you to use the credit interest-free for a period and potentially earn interest on the borrowed amount. Here's a step-by-step guide on how you could do this:\\n\\n**Step 1: Understand Your Credit Terms**\\n\\n- HDFC Credit Card: ₹30,000 limit, billing date on the 15th of each month, 45 days to pay.\\n- RBL Credit Card: ₹30,000 limit, billing date on the 15th of each month, 45 days to pay.\\n- Uni Pay 1/3rd Card: ₹30,000 every 15 days, take money on the 21st, pay by the 5th of the next month.\\n\\n**Step 2: Create a Payment and Investment Cycle**\\n\\n1. **Use HDFC Credit Card**:\\n   - Start using your HDFC credit card from the 16th of the month until you reach the ₹30,000 limit.\\n   - Pay off the entire balance by the due date (45 days later) to avoid interest charges.\\n\\n2. **Use RBL Credit Card**:\\n   - From the 16th of the month, simultaneously start using your RBL credit card until you reach the ₹30,000 limit.\\n   - Pay off the entire balance by the due date (45 days later) to avoid interest charges.\\n\\n3. **Use Uni Pay 1/3rd Card**:\\n   - On the 21st of the month, use the Uni Pay 1/3rd Card to access ₹30,000.\\n   - You will need to pay this amount back by the 5th of the next month.\\n\\n4. **Invest the Amount**:\\n   - As soon as you have access to the funds from the credit cards and the Uni Pay 1/3rd Card, deposit the total amount (up to ₹90,000) into a high-yield savings account or a liquid mutual fund that allows quick withdrawal and earns you some interest.\\n\\n5. **Payback Time**:\\n   - Before the due date of the HDFC credit card, withdraw ₹30,000 from your investment and pay off the balance.\\n   - Repeat the same for the RBL credit card.\\n   - For the Uni Pay 1/3rd Card, ensure you pay back the ₹30,000 by the 5th of the next month.\\n\\n**Example Cycle**:\\n\\n- **January 16th**: Start using HDFC and RBL credit cards.\\n- **January 21st**: Use Uni Pay 1/3rd Card to access ₹30,000.\\n- **January 21st**: Invest ₹90,000 in a high-yield savings account.\\n- **February 5th**: Pay back Uni Pay 1/3rd Card with the invested money.\\n- **March 1st** (45 days from January 15th): Pay back HDFC credit card with the invested money.\\n- **March 1st**: Pay back RBL credit card with the invested money.\\n- **March 16th**: Repeat the cycle.\\n\\n**Important Considerations**:\\n\\n- Always pay back the full amount owed on credit cards to avoid high-interest charges.\\n- Make sure the investment vehicle you choose allows for quick withdrawal without penalties and that the interest or return you earn is higher than any potential fees.\\n- Keep track of all due dates and ensure you have enough liquidity to make payments on time.\\n- Be aware of any changes in the credit card terms or interest rates on your savings account or investment.\\n- This strategy requires discipline and careful management of funds to avoid falling into a debt trap.\\n\\nPlease note that while this strategy can work in theory, it carries risks, such as the potential for investment loss or the temptation to overspend. Always consider your financial situation and risk tolerance before implementing such a strategy, and consult with a financial advisor if needed.\""
      ]
     },
     "execution_count": 18,
     "metadata": {},
     "output_type": "execute_result"
    }
   ],
   "source": [
    "text= f\"\"\"\n",
    "I have HDFC credit card , where I can use 30000 per month and billing date is every month 15th and I have 45 days to pay from billing date, after fund use. \\\n",
    "And also I have RBL credit card, where I can use 30000 per month and billing data is every month of 15th and I have 45 days to pay from billing date, after fund use. \\\n",
    "And I have Uni Pay Check , I am able to get 30000 per 15 days and I need to pay after that. that is I need to take money on every \\\n",
    "month 21st and pay by 5th of next month using Uni Pay Check. \\\n",
    "Using these above information, How can I utilise these options and create cycle  to geneate \\ \n",
    "intrest using the total amount and pay the bank correclty, every month.\n",
    "\"\"\"\n",
    "\n",
    "prompt=f\"\"\"\n",
    "You are an investment advisor, help with possible solutions for \\\n",
    "for given problem\n",
    "```{text}```\n",
    "Can you explain with Example.\n",
    "\"\"\"\n",
    "\n",
    "response = get_completion(prompt)\n",
    "response"
   ]
  },
  {
   "cell_type": "code",
   "execution_count": null,
   "id": "ee66af78-8487-466c-a875-3eb0403e942b",
   "metadata": {},
   "outputs": [],
   "source": []
  },
  {
   "cell_type": "code",
   "execution_count": null,
   "id": "f9a126d3-51ab-46b2-8f93-33730088edde",
   "metadata": {},
   "outputs": [],
   "source": []
  }
 ],
 "metadata": {
  "kernelspec": {
   "display_name": "Python 3 (ipykernel)",
   "language": "python",
   "name": "python3"
  },
  "language_info": {
   "codemirror_mode": {
    "name": "ipython",
    "version": 3
   },
   "file_extension": ".py",
   "mimetype": "text/x-python",
   "name": "python",
   "nbconvert_exporter": "python",
   "pygments_lexer": "ipython3",
   "version": "3.11.4"
  }
 },
 "nbformat": 4,
 "nbformat_minor": 5
}
