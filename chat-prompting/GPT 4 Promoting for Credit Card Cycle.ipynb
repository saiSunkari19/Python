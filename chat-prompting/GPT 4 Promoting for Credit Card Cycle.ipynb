{
 "cells": [
  {
   "cell_type": "code",
   "execution_count": 1,
   "id": "d0ab8137-8997-4caa-bac6-9357b45270b7",
   "metadata": {},
   "outputs": [
    {
     "name": "stdout",
     "output_type": "stream",
     "text": [
      "Requirement already satisfied: python-dotenv in /Users/sai/anaconda3/lib/python3.11/site-packages (1.0.0)\r\n"
     ]
    }
   ],
   "source": [
    "!pip3 install python-dotenv"
   ]
  },
  {
   "cell_type": "code",
   "execution_count": 2,
   "id": "be9eaf4d-6093-435d-8dc8-f505a1c8d58c",
   "metadata": {},
   "outputs": [],
   "source": [
    "import dotenv, os\n",
    "import openai\n",
    "dotenv.load_dotenv()\n",
    "\n",
    "openai.api_key = os.getenv('GPT4_KEY')"
   ]
  },
  {
   "cell_type": "code",
   "execution_count": 3,
   "id": "09c680a8-5de1-4dcb-80a7-6085e0817f0f",
   "metadata": {},
   "outputs": [],
   "source": [
    "# Model selection\n",
    "def get_completion(prompt, model=\"gpt-4-1106-preview\"):\n",
    "    messages = [{\"role\": \"user\", \"content\":prompt}]\n",
    "    response = openai.ChatCompletion.create(\n",
    "        model = model,\n",
    "        messages = messages,\n",
    "        temperature = 0  # Degree of random ness model output\n",
    "    )\n",
    "    return response.choices[0].message[\"content\"]  "
   ]
  },
  {
   "cell_type": "code",
   "execution_count": 4,
   "id": "1a3b470f-b8b7-4d6e-a1df-232bd34d2ab7",
   "metadata": {},
   "outputs": [
    {
     "ename": "APIRemovedInV1",
     "evalue": "\n\nYou tried to access openai.ChatCompletion, but this is no longer supported in openai>=1.0.0 - see the README at https://github.com/openai/openai-python for the API.\n\nYou can run `openai migrate` to automatically upgrade your codebase to use the 1.0.0 interface. \n\nAlternatively, you can pin your installation to the old version, e.g. `pip install openai==0.28`\n\nA detailed migration guide is available here: https://github.com/openai/openai-python/discussions/742\n",
     "output_type": "error",
     "traceback": [
      "\u001b[0;31m---------------------------------------------------------------------------\u001b[0m",
      "\u001b[0;31mAPIRemovedInV1\u001b[0m                            Traceback (most recent call last)",
      "Cell \u001b[0;32mIn[4], line 16\u001b[0m\n\u001b[1;32m      1\u001b[0m text\u001b[38;5;241m=\u001b[39m \u001b[38;5;124mf\u001b[39m\u001b[38;5;124m\"\"\"\u001b[39m\n\u001b[1;32m      2\u001b[0m \u001b[38;5;124mI have 30,000 INR, every 45 days I need to pay this money to bank \u001b[39m\u001b[38;5;130;01m\\\u001b[39;00m\n\u001b[1;32m      3\u001b[0m \u001b[38;5;124mI want to invest in monthly basis and get return on that money and after month \u001b[39m\u001b[38;5;130;01m\\\u001b[39;00m\n\u001b[0;32m   (...)\u001b[0m\n\u001b[1;32m      6\u001b[0m \u001b[38;5;124mCan you tell where should I invest in order to get 1% return every month on my captital \u001b[39m\n\u001b[1;32m      7\u001b[0m \u001b[38;5;124m\"\"\"\u001b[39m\n\u001b[1;32m      9\u001b[0m prompt\u001b[38;5;241m=\u001b[39m\u001b[38;5;124mf\u001b[39m\u001b[38;5;124m\"\"\"\u001b[39m\n\u001b[1;32m     10\u001b[0m \u001b[38;5;124mYou are an investment advisor, help with possible solutions for \u001b[39m\u001b[38;5;130;01m\\\u001b[39;00m\n\u001b[1;32m     11\u001b[0m \u001b[38;5;124mfor given problem\u001b[39m\n\u001b[1;32m     12\u001b[0m \u001b[38;5;124m```\u001b[39m\u001b[38;5;132;01m{\u001b[39;00mtext\u001b[38;5;132;01m}\u001b[39;00m\u001b[38;5;124m```\u001b[39m\n\u001b[1;32m     13\u001b[0m \u001b[38;5;124m- Output the solution in readable format like json and lines..\u001b[39m\n\u001b[1;32m     14\u001b[0m \u001b[38;5;124m\"\"\"\u001b[39m\n\u001b[0;32m---> 16\u001b[0m response \u001b[38;5;241m=\u001b[39m get_completion(prompt)\n\u001b[1;32m     17\u001b[0m response\n",
      "Cell \u001b[0;32mIn[3], line 4\u001b[0m, in \u001b[0;36mget_completion\u001b[0;34m(prompt, model)\u001b[0m\n\u001b[1;32m      2\u001b[0m \u001b[38;5;28;01mdef\u001b[39;00m \u001b[38;5;21mget_completion\u001b[39m(prompt, model\u001b[38;5;241m=\u001b[39m\u001b[38;5;124m\"\u001b[39m\u001b[38;5;124mgpt-4-1106-preview\u001b[39m\u001b[38;5;124m\"\u001b[39m):\n\u001b[1;32m      3\u001b[0m     messages \u001b[38;5;241m=\u001b[39m [{\u001b[38;5;124m\"\u001b[39m\u001b[38;5;124mrole\u001b[39m\u001b[38;5;124m\"\u001b[39m: \u001b[38;5;124m\"\u001b[39m\u001b[38;5;124muser\u001b[39m\u001b[38;5;124m\"\u001b[39m, \u001b[38;5;124m\"\u001b[39m\u001b[38;5;124mcontent\u001b[39m\u001b[38;5;124m\"\u001b[39m:prompt}]\n\u001b[0;32m----> 4\u001b[0m     response \u001b[38;5;241m=\u001b[39m openai\u001b[38;5;241m.\u001b[39mChatCompletion\u001b[38;5;241m.\u001b[39mcreate(\n\u001b[1;32m      5\u001b[0m         model \u001b[38;5;241m=\u001b[39m model,\n\u001b[1;32m      6\u001b[0m         messages \u001b[38;5;241m=\u001b[39m messages,\n\u001b[1;32m      7\u001b[0m         temperature \u001b[38;5;241m=\u001b[39m \u001b[38;5;241m0\u001b[39m  \u001b[38;5;66;03m# Degree of random ness model output\u001b[39;00m\n\u001b[1;32m      8\u001b[0m     )\n\u001b[1;32m      9\u001b[0m     \u001b[38;5;28;01mreturn\u001b[39;00m response\u001b[38;5;241m.\u001b[39mchoices[\u001b[38;5;241m0\u001b[39m]\u001b[38;5;241m.\u001b[39mmessage[\u001b[38;5;124m\"\u001b[39m\u001b[38;5;124mcontent\u001b[39m\u001b[38;5;124m\"\u001b[39m]\n",
      "File \u001b[0;32m~/anaconda3/lib/python3.11/site-packages/openai/_utils/_proxy.py:22\u001b[0m, in \u001b[0;36mLazyProxy.__getattr__\u001b[0;34m(self, attr)\u001b[0m\n\u001b[1;32m     21\u001b[0m \u001b[38;5;28;01mdef\u001b[39;00m \u001b[38;5;21m__getattr__\u001b[39m(\u001b[38;5;28mself\u001b[39m, attr: \u001b[38;5;28mstr\u001b[39m) \u001b[38;5;241m-\u001b[39m\u001b[38;5;241m>\u001b[39m \u001b[38;5;28mobject\u001b[39m:\n\u001b[0;32m---> 22\u001b[0m     \u001b[38;5;28;01mreturn\u001b[39;00m \u001b[38;5;28mgetattr\u001b[39m(\u001b[38;5;28mself\u001b[39m\u001b[38;5;241m.\u001b[39m__get_proxied__(), attr)\n",
      "File \u001b[0;32m~/anaconda3/lib/python3.11/site-packages/openai/_utils/_proxy.py:43\u001b[0m, in \u001b[0;36mLazyProxy.__get_proxied__\u001b[0;34m(self)\u001b[0m\n\u001b[1;32m     41\u001b[0m \u001b[38;5;28;01mdef\u001b[39;00m \u001b[38;5;21m__get_proxied__\u001b[39m(\u001b[38;5;28mself\u001b[39m) \u001b[38;5;241m-\u001b[39m\u001b[38;5;241m>\u001b[39m T:\n\u001b[1;32m     42\u001b[0m     \u001b[38;5;28;01mif\u001b[39;00m \u001b[38;5;129;01mnot\u001b[39;00m \u001b[38;5;28mself\u001b[39m\u001b[38;5;241m.\u001b[39mshould_cache:\n\u001b[0;32m---> 43\u001b[0m         \u001b[38;5;28;01mreturn\u001b[39;00m \u001b[38;5;28mself\u001b[39m\u001b[38;5;241m.\u001b[39m__load__()\n\u001b[1;32m     45\u001b[0m     proxied \u001b[38;5;241m=\u001b[39m \u001b[38;5;28mself\u001b[39m\u001b[38;5;241m.\u001b[39m__proxied\n\u001b[1;32m     46\u001b[0m     \u001b[38;5;28;01mif\u001b[39;00m proxied \u001b[38;5;129;01mis\u001b[39;00m \u001b[38;5;129;01mnot\u001b[39;00m \u001b[38;5;28;01mNone\u001b[39;00m:\n",
      "File \u001b[0;32m~/anaconda3/lib/python3.11/site-packages/openai/lib/_old_api.py:33\u001b[0m, in \u001b[0;36mAPIRemovedInV1Proxy.__load__\u001b[0;34m(self)\u001b[0m\n\u001b[1;32m     31\u001b[0m \u001b[38;5;129m@override\u001b[39m\n\u001b[1;32m     32\u001b[0m \u001b[38;5;28;01mdef\u001b[39;00m \u001b[38;5;21m__load__\u001b[39m(\u001b[38;5;28mself\u001b[39m) \u001b[38;5;241m-\u001b[39m\u001b[38;5;241m>\u001b[39m \u001b[38;5;28;01mNone\u001b[39;00m:\n\u001b[0;32m---> 33\u001b[0m     \u001b[38;5;28;01mraise\u001b[39;00m APIRemovedInV1(symbol\u001b[38;5;241m=\u001b[39m\u001b[38;5;28mself\u001b[39m\u001b[38;5;241m.\u001b[39m_symbol)\n",
      "\u001b[0;31mAPIRemovedInV1\u001b[0m: \n\nYou tried to access openai.ChatCompletion, but this is no longer supported in openai>=1.0.0 - see the README at https://github.com/openai/openai-python for the API.\n\nYou can run `openai migrate` to automatically upgrade your codebase to use the 1.0.0 interface. \n\nAlternatively, you can pin your installation to the old version, e.g. `pip install openai==0.28`\n\nA detailed migration guide is available here: https://github.com/openai/openai-python/discussions/742\n"
     ]
    }
   ],
   "source": [
    "text= f\"\"\"\n",
    "I have 30,000 INR, every 45 days I need to pay this money to bank \\\n",
    "I want to invest in monthly basis and get return on that money and after month \\\n",
    "I will pay the principle amount to bank and repeat. \\\n",
    "Here I am looking to invest in monthly basis with fixed return around 12% per annual \\\n",
    "Can you tell where should I invest in order to get 1% return every month on my captital \n",
    "\"\"\"\n",
    "\n",
    "prompt=f\"\"\"\n",
    "You are an investment advisor, help with possible solutions for \\\n",
    "for given problem\n",
    "```{text}```\n",
    "- Output the solution in readable format like json and lines..\n",
    "\"\"\"\n",
    "\n",
    "response = get_completion(prompt)\n",
    "response"
   ]
  },
  {
   "cell_type": "code",
   "execution_count": null,
   "id": "4521e3d8-5446-443e-b4aa-fdf085555901",
   "metadata": {},
   "outputs": [],
   "source": [
    "text= f\"\"\"\n",
    "I have 30,000 INR, every 45 days I need to pay this money to bank \\\n",
    "I want to invest in monthly basis and get return on that money and after month \\\n",
    "I will pay the principle amount to bank and repeat. \\\n",
    "Here I am looking to invest in monthly basis with fixed return around 12% per annual \\\n",
    "Can you tell where should I invest in order to get 1% return every month on my captital \\\n",
    "How can I use in Peer-to-Peer Lending platfroms and which are best in India\n",
    "\"\"\"\n",
    "\n",
    "prompt=f\"\"\"\n",
    "You are an investment advisor, help with possible solutions for \\\n",
    "for given problem\n",
    "```{text}```\n",
    "\"\"\"\n",
    "\n",
    "response = get_completion(prompt)\n",
    "response"
   ]
  },
  {
   "cell_type": "code",
   "execution_count": null,
   "id": "1f0fe776-2cf2-47c7-bedc-4ee0fab4e1fa",
   "metadata": {},
   "outputs": [],
   "source": [
    "text= f\"\"\"\n",
    "I have HDFC credit card , where I can use 30000 per month and billing date is every month 15th and I have 45 days to pay, after fund use. \\\n",
    "And also I have RBL credit card, where I can use 30000 per month and billing data is every month of 15th and I have 45 days to pay, after fund use. \\\n",
    "And I have Uni Pay Check , I am able to get 30000 per 15 days and I need to pay after that. \\\n",
    "Using these above information, How can I utilise these options and create cycle  to geneate \\ \n",
    "intrest using the total amount and pay the bank correclty, every month.\n",
    "\"\"\"\n",
    "\n",
    "prompt=f\"\"\"\n",
    "You are an investment advisor, help with possible solutions for \\\n",
    "for given problem\n",
    "```{text}```\n",
    "Output text with markdown \n",
    "\"\"\"\n",
    "\n",
    "response = get_completion(prompt)\n",
    "response"
   ]
  },
  {
   "cell_type": "code",
   "execution_count": null,
   "id": "81ddad1e-726e-48e8-a043-81156f236760",
   "metadata": {},
   "outputs": [],
   "source": [
    "text= f\"\"\"\n",
    "I have HDFC credit card , where I can use 30000 per month and billing date is every month 15th and I have 45 days to pay from billing date, after fund use. \\\n",
    "And also I have RBL credit card, where I can use 30000 per month and billing data is every month of 15th and I have 45 days to pay from billing date, after fund use. \\\n",
    "And I have Uni Pay Check , I am able to get 30000 per 15 days and I need to pay after that. that is I need to take money on every \\\n",
    "month 21st and pay by 5th of next month using Uni Pay Check. \\\n",
    "Using these above information, How can I utilise these options and create cycle  to geneate \\ \n",
    "intrest using the total amount and pay the bank correclty, every month.\n",
    "\"\"\"\n",
    "\n",
    "prompt=f\"\"\"\n",
    "You are an investment advisor, help with possible solutions for \\\n",
    "for given problem\n",
    "```{text}```\n",
    "Can you explain with Example.\n",
    "\"\"\"\n",
    "\n",
    "response = get_completion(prompt)\n",
    "response"
   ]
  },
  {
   "cell_type": "code",
   "execution_count": null,
   "id": "ee66af78-8487-466c-a875-3eb0403e942b",
   "metadata": {},
   "outputs": [],
   "source": []
  },
  {
   "cell_type": "code",
   "execution_count": null,
   "id": "f9a126d3-51ab-46b2-8f93-33730088edde",
   "metadata": {},
   "outputs": [],
   "source": []
  }
 ],
 "metadata": {
  "kernelspec": {
   "display_name": "Python 3 (ipykernel)",
   "language": "python",
   "name": "python3"
  },
  "language_info": {
   "codemirror_mode": {
    "name": "ipython",
    "version": 3
   },
   "file_extension": ".py",
   "mimetype": "text/x-python",
   "name": "python",
   "nbconvert_exporter": "python",
   "pygments_lexer": "ipython3",
   "version": "3.11.3"
  }
 },
 "nbformat": 4,
 "nbformat_minor": 5
}
