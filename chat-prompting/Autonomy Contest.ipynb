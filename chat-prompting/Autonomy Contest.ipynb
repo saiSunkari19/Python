{
 "cells": [
  {
   "cell_type": "code",
   "execution_count": 1,
   "id": "c8812e00-a262-440d-a10f-c11c0f1321dd",
   "metadata": {},
   "outputs": [
    {
     "ename": "NameError",
     "evalue": "name 'get_completion' is not defined",
     "output_type": "error",
     "traceback": [
      "\u001b[0;31m---------------------------------------------------------------------------\u001b[0m",
      "\u001b[0;31mNameError\u001b[0m                                 Traceback (most recent call last)",
      "Cell \u001b[0;32mIn[1], line 20\u001b[0m\n\u001b[1;32m      1\u001b[0m text\u001b[38;5;241m=\u001b[39m\u001b[38;5;124m\"\"\"\u001b[39m\n\u001b[1;32m      2\u001b[0m \u001b[38;5;124mWe have a product that will generate images using text-to-image models.\u001b[39m\u001b[38;5;130;01m\\\u001b[39;00m\n\u001b[1;32m      3\u001b[0m \u001b[38;5;124mWe are currently looking into create contest/campaign for brands to identify \u001b[39m\u001b[38;5;130;01m\\\u001b[39;00m\n\u001b[0;32m   (...)\u001b[0m\n\u001b[1;32m      8\u001b[0m \u001b[38;5;124mWe want to give every pariticipate who participated in the campaign based on the on percentage.\u001b[39m\n\u001b[1;32m      9\u001b[0m \u001b[38;5;124m\"\"\"\u001b[39m\n\u001b[1;32m     12\u001b[0m prompt\u001b[38;5;241m=\u001b[39m\u001b[38;5;124mf\u001b[39m\u001b[38;5;124m\"\"\"\u001b[39m\n\u001b[1;32m     13\u001b[0m \u001b[38;5;124mYou are an Backend Developer and Product Designer with specialised in Go Language and MongoDB \u001b[39m\u001b[38;5;130;01m\\\u001b[39;00m\n\u001b[1;32m     14\u001b[0m \u001b[38;5;124mConside the problem that given delimited by <> and solve the problem. \u001b[39m\u001b[38;5;130;01m\\\u001b[39;00m\n\u001b[0;32m   (...)\u001b[0m\n\u001b[1;32m     17\u001b[0m \u001b[38;5;124mProblem : <\u001b[39m\u001b[38;5;132;01m{\u001b[39;00mtext\u001b[38;5;132;01m}\u001b[39;00m\u001b[38;5;124m>\u001b[39m\n\u001b[1;32m     18\u001b[0m \u001b[38;5;124m\"\"\"\u001b[39m\n\u001b[0;32m---> 20\u001b[0m response \u001b[38;5;241m=\u001b[39m get_completion(prompt)\n\u001b[1;32m     21\u001b[0m \u001b[38;5;28mprint\u001b[39m(response)\n",
      "\u001b[0;31mNameError\u001b[0m: name 'get_completion' is not defined"
     ]
    }
   ],
   "source": [
    "text=\"\"\"\n",
    "We have a product that will generate images using text-to-image models.\\\n",
    "We are currently looking into create contest/campaign for brands to identify \\\n",
    "talents from our users, who will create best output for the campaign theme. \\\n",
    "We also want to use our credit system that will have to create a credit pool for campaign \\\n",
    "And distribute credit to the creators, and voters who pariticipated and voted for the image\\\n",
    "based on weighted votage like 10credits = 1 vote.\n",
    "We want to give every pariticipate who participated in the campaign based on the on percentage.\n",
    "\"\"\"\n",
    "\n",
    "\n",
    "prompt=f\"\"\"\n",
    "You are an Backend Developer and Product Designer with specialised in Go Language and MongoDB \\\n",
    "Conside the problem that given delimited by <> and solve the problem. \\\n",
    "1. Provide the design model and implementation for that.\n",
    "2. Design the weighted vote system\n",
    "Problem : <{text}>\n",
    "\"\"\"\n",
    "\n",
    "response = get_completion(prompt)\n",
    "print(response)"
   ]
  },
  {
   "cell_type": "code",
   "execution_count": null,
   "id": "67962158-4f42-413d-8ba1-245934bc3e3c",
   "metadata": {},
   "outputs": [],
   "source": [
    "text=\"\"\"\n",
    "We have a product that will generate images using text-to-image models.\\\n",
    "We are currently looking into create contest/campaign for brands to identify \\\n",
    "talents from our users, who will create best output for the campaign theme. \\\n",
    "We also want to use our credit system that will have to create a credit pool for campaign \\\n",
    "And distribute credit to the creators, and voters who pariticipated and voted for the image\\\n",
    "based on weighted votage like 10credits = 1 vote.\n",
    "We want to give every pariticipate who participated in the campaign based on the on percentage.\n",
    "\"\"\"\n",
    "\n",
    "\n",
    "prompt=f\"\"\"\n",
    "You are an Backend Developer with specialised in Go Language and MongoDB \\\n",
    "Conside the statement that given delimited by <> solve the below problem \\\n",
    "1. Implement weight vote credit system with 10 credits = 1vote \n",
    "Statement : <{text}>\n",
    "\"\"\"\n",
    "\n",
    "response = get_completion(prompt)\n",
    "print(response)"
   ]
  },
  {
   "cell_type": "code",
   "execution_count": null,
   "id": "97081c18-8a19-4693-b4c7-1474fcaa9360",
   "metadata": {},
   "outputs": [],
   "source": []
  },
  {
   "cell_type": "code",
   "execution_count": 3,
   "id": "4cbe4e26-5c4c-4216-bea0-0539fdf342c5",
   "metadata": {},
   "outputs": [],
   "source": [
    "text=\"\"\"\n",
    "We are working on the Campaign/Contest, where we have two types of actors {Participant, Voters}. \\\n",
    "- Campaign has Status and have keep track of Participants, votes  and voters information. \\\n",
    "- Participants Can submit multple Submissions for the campaign \\\n",
    "- Voter use their credits to find how many votes they have with ration of 10 credits = 1 vote. \\\n",
    "and Vote on one submit entry or multple submiteb entries. \\\n",
    "- Keep track of Voter submission on each entry and also how much credit they paid for submission. \\\n",
    "- After Campaign end, give winner from submitted entries based on who has highest votes on submission.\\\n",
    "- Make sure to query all information.\n",
    "\"\"\"\n",
    "\n",
    "prompt=f\"\"\"\n",
    "You are an MongoDB Schema design specialist \\\n",
    "Design a mongoDB model for based on Instructions \\\n",
    "Delimited by <> \\\n",
    "Instructions: <{text}>\n",
    "\"\"\""
   ]
  },
  {
   "cell_type": "code",
   "execution_count": null,
   "id": "44076ee5-7efb-4fa2-9a28-f03080df469f",
   "metadata": {},
   "outputs": [],
   "source": []
  }
 ],
 "metadata": {
  "kernelspec": {
   "display_name": "Python 3 (ipykernel)",
   "language": "python",
   "name": "python3"
  },
  "language_info": {
   "codemirror_mode": {
    "name": "ipython",
    "version": 3
   },
   "file_extension": ".py",
   "mimetype": "text/x-python",
   "name": "python",
   "nbconvert_exporter": "python",
   "pygments_lexer": "ipython3",
   "version": "3.11.3"
  }
 },
 "nbformat": 4,
 "nbformat_minor": 5
}
